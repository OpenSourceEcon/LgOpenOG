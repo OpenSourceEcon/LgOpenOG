{
 "cells": [
  {
   "cell_type": "code",
   "execution_count": 1,
   "metadata": {
    "collapsed": true
   },
   "outputs": [],
   "source": [
    "import numpy as np\n",
    "import scipy.optimize as opt\n",
    "import matplotlib.pyplot as plt\n",
    "from matplotlib import cm\n",
    "import multiprocessing as mp\n",
    "from stitch import stitch"
   ]
  },
  {
   "cell_type": "code",
   "execution_count": 2,
   "metadata": {
    "collapsed": true
   },
   "outputs": [],
   "source": [
    "#Constructing a bump function for nvec_h and nvec_f\n",
    "def bump(left_n, right_n, center, radius, S):\n",
    "    left = left_n * np.ones(center - radius)\n",
    "    right = right_n * np.ones(S - center - radius - 1)\n",
    "    mean = (left_n + right_n) / 2\n",
    "    middle = (right_n - mean) * np.sin(np.pi * (np.arange(center - radius, center + radius + 1) - center) / (2 * radius)) + mean\n",
    "    n_vec = np.concatenate((left, middle, right))\n",
    "    return n_vec"
   ]
  },
  {
   "cell_type": "code",
   "execution_count": 3,
   "metadata": {
    "collapsed": true
   },
   "outputs": [],
   "source": [
    "# Assume Cobb-Douglas. Generalized later. \n",
    "\n",
    "# Household parameters\n",
    "life = 80\n",
    "S = 80\n",
    "working = round(9 * S / 16)\n",
    "beta_annual = .96\n",
    "beta = beta_annual ** (life / S)\n",
    "\n",
    "betavec = np.ones(S)\n",
    "\n",
    "for i in range(1, S):\n",
    "    betavec[i:] *= beta\n",
    "    \n",
    "sigma = 3.0\n",
    "\n",
    "theta_h = 0.15\n",
    "theta_f = 0.75\n",
    "\n",
    "nvec_h = bump(1.0, 0.2, working, 5, S)\n",
    "nvec_f = bump(1.0, 0.2, working, 5, S)\n",
    "\n",
    "L_h = np.sum(nvec_h)\n",
    "L_f = np.sum(nvec_f)\n",
    "\n",
    "# Firm parameters\n",
    "Z_h = 1.0\n",
    "Z_f = 1.0\n",
    "\n",
    "gamma_h = .35\n",
    "gamma_f = .35\n",
    "\n",
    "delta_annual_h = .05\n",
    "delta_h = 1 - ((1 - delta_annual_h) ** (life / S))\n",
    "\n",
    "delta_annual_f = .05\n",
    "delta_f = 1 - ((1 - delta_annual_f) ** (life / S))\n",
    "\n",
    "# SS parameters\n",
    "SS_tol = 1e-13\n",
    "xi = 0.05"
   ]
  },
  {
   "cell_type": "code",
   "execution_count": 4,
   "metadata": {
    "collapsed": true
   },
   "outputs": [],
   "source": [
    "@stitch(lambda cvec, sigma: -sigma / (cvec ** (1 + sigma)), (0, None), 1e-10)\n",
    "def get_MUvec(cvec, sigma):\n",
    "    return 1 / (cvec ** sigma)\n",
    "\n",
    "@stitch(lambda x, gamma: gamma / (x ** (1 - gamma)), (0, None), 1e-10)\n",
    "def root(x, gamma):\n",
    "    return x ** gamma\n",
    "\n",
    "def get_Y(K, L, Z, gamma):\n",
    "    return Z * (K ** gamma) * (L ** (1 - gamma))\n",
    "\n",
    "def get_K(r, L, Z, P, gamma, delta):\n",
    "    return (gamma * Z * P * (L ** (1 - gamma)) / (r + delta)) ** (1 / (1 - gamma))\n",
    "\n",
    "def get_r(K, L, Z, P, gamma, delta):\n",
    "    return gamma * Z * P * root(K, (gamma - 1)) * root(L, (1 - gamma)) - delta\n",
    "\n",
    "def get_w(K, L, Z, P, gamma):\n",
    "    return (1 - gamma) * Z * P * ((K / L) ** gamma)\n",
    "\n",
    "def get_P(theta, P_1, P_2, e):\n",
    "    constant = ((1 - theta) ** (1 - theta)) * (theta ** theta)\n",
    "    return (1 / constant) * root(P_1, (1 - theta)) * root((e * P_2), theta)"
   ]
  },
  {
   "cell_type": "code",
   "execution_count": 30,
   "metadata": {
    "collapsed": true
   },
   "outputs": [],
   "source": [
    "#Get the SS values of b_vec_h and b_vec_f\n",
    "\n",
    "def get_cvec(bvec, nvec, wvec, rvec, Pvec, S, b_init=0):\n",
    "    #\n",
    "    #b_vec should be of size S - 1\n",
    "    #Other vectors should be of size S, or simply scalars if they are the same every period, as in SS.\n",
    "    #\n",
    "    #extended_b_vec should be of size S + 1, since it includes the 1st period\n",
    "    #and the S + 1th period. Borrowing (or saving) in both these periods should be zero, by assumption.\n",
    "    #\n",
    "    extended_bvec = np.zeros(S + 1)\n",
    "    if b_init:\n",
    "        extended_bvec[0] = b_init\n",
    "    extended_bvec[1:-1] = bvec\n",
    "    cvec = (nvec * wvec + (1 + rvec) * extended_bvec[:-1] - extended_bvec[1:]) / Pvec\n",
    "    return cvec\n",
    "\n",
    "def r_error(K_h, *args):\n",
    "    agg_b, L_h, L_f, Z_h, Z_f, P_h, P_f, gamma_h, gamma_f, delta_h, delta_f = args\n",
    "    r_h = get_r(K_h, L_h, Z_h, P_h, gamma_h, delta_h)\n",
    "    K_f = agg_b - K_h\n",
    "    r_f = get_r(K_f, L_f, Z_f, P_f, gamma_f, delta_f)\n",
    "    return abs(r_h - r_f)\n",
    "\n",
    "def solve_r(*args):\n",
    "    agg_b, L_h, L_f, Z_h, Z_f, P_h, P_f, gamma_h, gamma_f, delta_h, delta_f = args\n",
    "    K_h_result = opt.minimize_scalar(r_error, bracket=(0, agg_b), args=args, tol=SS_tol)\n",
    "    if not K_h_result.success:\n",
    "        print(\"Minimizer for K_h failed.\")\n",
    "    K_h = K_h_result.x\n",
    "    K_f = agg_b - K_h\n",
    "    r = get_r(K_h, L_h, Z_h, P_h, gamma_h, delta_h)\n",
    "    w_h = get_w(K_h, L_h, Z_h, P_h, gamma_h)\n",
    "    w_f = get_w(K_f, L_f, Z_f, P_f, gamma_f)\n",
    "    return K_h, K_f, r, w_h, w_f\n",
    "\n",
    "def prices_error(prices, *args):\n",
    "    P_h, P_f, e = prices\n",
    "    alpha, bvec_h, bvec_f, agg_b, nvec_h, nvec_f, L_h, L_f, Z_h, Z_f, \\\n",
    "    gamma_h, gamma_f, delta_h, delta_f, theta_h, theta_f, S = args\n",
    "    \n",
    "    K_h, K_f, r, w_h, w_f = solve_r(agg_b, L_h, L_f, Z_h, Z_f, P_h, P_f, gamma_h, gamma_f, delta_h, delta_f)\n",
    "    \n",
    "    P = get_P(theta_h, P_h, P_f, 1 / e)\n",
    "    P_star = get_P(theta_f, P_f, P_h, e)\n",
    "    \n",
    "    cvec_h = get_cvec(bvec_h, nvec_h, w_h, r, P, S)\n",
    "    cvec_f = get_cvec(bvec_f, nvec_f, w_f, r, P_star, S)\n",
    "    \n",
    "    cvec_hh = (1 - theta_h) * (P / P_h) * cvec_h\n",
    "    cvec_hf = theta_h * ((P * e) / P_f) * cvec_h\n",
    "    cvec_ff = (1 - theta_f) * (P_star / P_f) * cvec_f\n",
    "    cvec_fh = theta_f * (P_star / (e * P_h)) * cvec_f\n",
    "    \n",
    "    Y_h = get_Y(K_h, L_h, Z_h, gamma_h)\n",
    "    Y_f = get_Y(K_f, L_f, Z_f, gamma_f)\n",
    "    \n",
    "    agg_I = delta_f * K_f + delta_h * K_h\n",
    "    \n",
    "    error_h = Y_h - np.sum(cvec_hh) - np.sum(cvec_fh) - alpha * agg_I\n",
    "    error_f = Y_f - np.sum(cvec_hf) - np.sum(cvec_ff) - (1 - alpha) * agg_I\n",
    "    error_e = P_h * np.sum(cvec_fh) - (P_f / e) * np.sum(cvec_hf)\n",
    "    \n",
    "    return (error_h, error_f, error_e)\n",
    "\n",
    "def V_error(alpha, *args):\n",
    "    bvec_h, bvec_f, agg_b, nvec_h, nvec_f, L_h, L_f, Z_h, Z_f, \\\n",
    "    gamma_h, gamma_f, delta_h, delta_f, theta_h, theta_f, S = args\n",
    "    \n",
    "    P_h_guess = 1.0\n",
    "    P_f_guess = 1.0\n",
    "    e_guess = 1.0\n",
    "    \n",
    "    prices_guess = np.array([P_h_guess, P_f_guess, e_guess])\n",
    "    \n",
    "    prices_args = (alpha, *args)\n",
    "    \n",
    "    prices_result = opt.root(prices_error, prices_guess, args=prices_args, tol=SS_tol)\n",
    "    if not prices_result.success:\n",
    "        print(\"Root finder for prices failed in alpha minimizer.\")\n",
    "        plt.plot(bvec_h)\n",
    "        plt.show()\n",
    "        \n",
    "    P_h, P_f, e = prices_result.x\n",
    "    \n",
    "    K_h, K_f, r, w_h, w_f = solve_r(agg_b, L_h, L_f, Z_h, Z_f, P_h, P_f, gamma_h, gamma_f, delta_h, delta_f)\n",
    "        \n",
    "    P = get_P(theta_h, P_h, P_f, 1 / e)\n",
    "    P_star = get_P(theta_f, P_f, P_h, e)\n",
    "    \n",
    "    cvec_h = get_cvec(bvec_h, nvec_h, w_h, r, P, S)\n",
    "    cvec_f = get_cvec(bvec_f, nvec_f, w_f, r, P_star, S)\n",
    "    \n",
    "    V_sum = np.sum((((cvec_h ** (1 - sigma) - 1) / (1 - sigma)) + ((cvec_f ** (1 - sigma) - 1) / (1 - sigma))) * betavec)\n",
    "    \n",
    "    return -V_sum"
   ]
  },
  {
   "cell_type": "code",
   "execution_count": 31,
   "metadata": {
    "collapsed": true
   },
   "outputs": [],
   "source": [
    "def SS_error(concat_bvec, *args):\n",
    "    nvec_h, nvec_f, L_h, L_f, Z_h, Z_f, gamma_h, gamma_f, delta_h, delta_f, theta_h, theta_f, beta, sigma, S = args\n",
    "    \n",
    "    bvec_h = concat_bvec[:S - 1]\n",
    "    \n",
    "    bvec_f = concat_bvec[S - 1:]\n",
    "    \n",
    "    agg_b = np.sum(concat_bvec)\n",
    "    \n",
    "    V_args = (bvec_h, bvec_f, agg_b, nvec_h, nvec_f, L_h, L_f, Z_h, Z_f, \\\n",
    "              gamma_h, gamma_f, delta_h, delta_f, theta_h, theta_f, S)\n",
    "    \n",
    "    alpha_result = opt.minimize_scalar(V_error, args=V_args, bounds=(0, 1), method='bounded')\n",
    "    if not alpha_result.success:\n",
    "        print(\"Minimizer for alpha has failed.\")\n",
    "    \n",
    "    alpha = alpha_result.x\n",
    "    \n",
    "    P_h_guess = 1.0\n",
    "    P_f_guess = 1.0\n",
    "    e_guess = 1.0\n",
    "    \n",
    "    prices_guess = np.array([P_h_guess, P_f_guess, e_guess])\n",
    "    \n",
    "    prices_args = (alpha, *V_args)\n",
    "    \n",
    "    prices_result = opt.root(prices_error, prices_guess, args=prices_args, tol=SS_tol)\n",
    "    if not prices_result.success:\n",
    "        print(\"Root finder for prices failed.\")\n",
    "    \n",
    "    P_h, P_f, e = prices_result.x\n",
    "    \n",
    "    K_h, K_f, r, w_h, w_f = solve_r(agg_b, L_h, L_f, Z_h, Z_f, P_h, P_f, gamma_h, gamma_f, delta_h, delta_f)\n",
    "    \n",
    "    P = get_P(theta_h, P_h, P_f, 1 / e)\n",
    "    P_star = get_P(theta_f, P_f, P_h, e)\n",
    "    \n",
    "    cvec_h = get_cvec(bvec_h, nvec_h, w_h, r, P, S)\n",
    "    cvec_f = get_cvec(bvec_f, nvec_f, w_f, r, P_star, S)\n",
    "    \n",
    "    MUvec_h = get_MUvec(cvec_h, sigma)\n",
    "    MUvec_f = get_MUvec(cvec_f, sigma)\n",
    "    \n",
    "    error_h = MUvec_h[:-1] - beta * (1 + r) * MUvec_h[1:]\n",
    "    error_f = MUvec_f[:-1] - beta * (1 + r) * MUvec_f[1:]\n",
    "    \n",
    "    return np.concatenate((error_h, error_f))"
   ]
  },
  {
   "cell_type": "code",
   "execution_count": 33,
   "metadata": {
    "collapsed": false,
    "scrolled": false
   },
   "outputs": [
    {
     "name": "stdout",
     "output_type": "stream",
     "text": [
      "Root finder for prices failed in alpha minimizer.\n"
     ]
    },
    {
     "data": {
      "image/png": "[encoded data removed]",
      "text/plain": [
       "<matplotlib.figure.Figure at 0x1123bb630>"
      ]
     },
     "metadata": {},
     "output_type": "display_data"
    },
    {
     "name": "stdout",
     "output_type": "stream",
     "text": [
      "Root finder for prices failed in alpha minimizer.\n"
     ]
    },
    {
     "data": {
      "image/png": "[encoded data removed]",
      "text/plain": [
       "<matplotlib.figure.Figure at 0x111e25a58>"
      ]
     },
     "metadata": {},
     "output_type": "display_data"
    },
    {
     "ename": "KeyboardInterrupt",
     "evalue": "",
     "output_type": "error",
     "traceback": [
      "\u001b[0;31m---------------------------------------------------------------------------\u001b[0m",
      "\u001b[0;31mKeyboardInterrupt\u001b[0m                         Traceback (most recent call last)",
      "\u001b[0;32m<ipython-input-33-c81f75797295>\u001b[0m in \u001b[0;36m<module>\u001b[0;34m()\u001b[0m\n\u001b[1;32m      2\u001b[0m \u001b[0mconcat_bvec_guess\u001b[0m \u001b[0;34m=\u001b[0m \u001b[0mnp\u001b[0m\u001b[0;34m.\u001b[0m\u001b[0mones\u001b[0m\u001b[0;34m(\u001b[0m\u001b[0;36m2\u001b[0m \u001b[0;34m*\u001b[0m \u001b[0mS\u001b[0m \u001b[0;34m-\u001b[0m \u001b[0;36m2\u001b[0m\u001b[0;34m)\u001b[0m \u001b[0;31m#np.concatenate((bvec_h, bvec_f))\u001b[0m\u001b[0;34m\u001b[0m\u001b[0m\n\u001b[1;32m      3\u001b[0m \u001b[0mSS_args\u001b[0m \u001b[0;34m=\u001b[0m \u001b[0;34m(\u001b[0m\u001b[0mnvec_h\u001b[0m\u001b[0;34m,\u001b[0m \u001b[0mnvec_f\u001b[0m\u001b[0;34m,\u001b[0m \u001b[0mL_h\u001b[0m\u001b[0;34m,\u001b[0m \u001b[0mL_f\u001b[0m\u001b[0;34m,\u001b[0m \u001b[0mZ_h\u001b[0m\u001b[0;34m,\u001b[0m \u001b[0mZ_f\u001b[0m\u001b[0;34m,\u001b[0m \u001b[0mgamma_h\u001b[0m\u001b[0;34m,\u001b[0m \u001b[0mgamma_f\u001b[0m\u001b[0;34m,\u001b[0m \u001b[0mdelta_h\u001b[0m\u001b[0;34m,\u001b[0m \u001b[0mdelta_f\u001b[0m\u001b[0;34m,\u001b[0m \u001b[0mtheta_h\u001b[0m\u001b[0;34m,\u001b[0m \u001b[0mtheta_f\u001b[0m\u001b[0;34m,\u001b[0m \u001b[0mbeta\u001b[0m\u001b[0;34m,\u001b[0m \u001b[0msigma\u001b[0m\u001b[0;34m,\u001b[0m \u001b[0mS\u001b[0m\u001b[0;34m)\u001b[0m\u001b[0;34m\u001b[0m\u001b[0m\n\u001b[0;32m----> 4\u001b[0;31m \u001b[0mresult\u001b[0m \u001b[0;34m=\u001b[0m \u001b[0mopt\u001b[0m\u001b[0;34m.\u001b[0m\u001b[0mroot\u001b[0m\u001b[0;34m(\u001b[0m\u001b[0mSS_error\u001b[0m\u001b[0;34m,\u001b[0m \u001b[0mconcat_bvec_guess\u001b[0m\u001b[0;34m,\u001b[0m \u001b[0margs\u001b[0m\u001b[0;34m=\u001b[0m\u001b[0mSS_args\u001b[0m\u001b[0;34m,\u001b[0m \u001b[0mtol\u001b[0m\u001b[0;34m=\u001b[0m\u001b[0mSS_tol\u001b[0m\u001b[0;34m)\u001b[0m\u001b[0;34m\u001b[0m\u001b[0m\n\u001b[0m\u001b[1;32m      5\u001b[0m \u001b[0;32mif\u001b[0m \u001b[0;32mnot\u001b[0m \u001b[0mresult\u001b[0m\u001b[0;34m.\u001b[0m\u001b[0msuccess\u001b[0m\u001b[0;34m:\u001b[0m\u001b[0;34m\u001b[0m\u001b[0m\n\u001b[1;32m      6\u001b[0m     \u001b[0mprint\u001b[0m\u001b[0;34m(\u001b[0m\u001b[0mresult\u001b[0m\u001b[0;34m)\u001b[0m\u001b[0;34m\u001b[0m\u001b[0m\n",
      "\u001b[0;32m/anaconda/lib/python3.6/site-packages/scipy/optimize/_root.py\u001b[0m in \u001b[0;36mroot\u001b[0;34m(fun, x0, args, method, jac, tol, callback, options)\u001b[0m\n\u001b[1;32m    184\u001b[0m \u001b[0;34m\u001b[0m\u001b[0m\n\u001b[1;32m    185\u001b[0m     \u001b[0;32mif\u001b[0m \u001b[0mmeth\u001b[0m \u001b[0;34m==\u001b[0m \u001b[0;34m'hybr'\u001b[0m\u001b[0;34m:\u001b[0m\u001b[0;34m\u001b[0m\u001b[0m\n\u001b[0;32m--> 186\u001b[0;31m         \u001b[0msol\u001b[0m \u001b[0;34m=\u001b[0m \u001b[0m_root_hybr\u001b[0m\u001b[0;34m(\u001b[0m\u001b[0mfun\u001b[0m\u001b[0;34m,\u001b[0m \u001b[0mx0\u001b[0m\u001b[0;34m,\u001b[0m \u001b[0margs\u001b[0m\u001b[0;34m=\u001b[0m\u001b[0margs\u001b[0m\u001b[0;34m,\u001b[0m \u001b[0mjac\u001b[0m\u001b[0;34m=\u001b[0m\u001b[0mjac\u001b[0m\u001b[0;34m,\u001b[0m \u001b[0;34m**\u001b[0m\u001b[0moptions\u001b[0m\u001b[0;34m)\u001b[0m\u001b[0;34m\u001b[0m\u001b[0m\n\u001b[0m\u001b[1;32m    187\u001b[0m     \u001b[0;32melif\u001b[0m \u001b[0mmeth\u001b[0m \u001b[0;34m==\u001b[0m \u001b[0;34m'lm'\u001b[0m\u001b[0;34m:\u001b[0m\u001b[0;34m\u001b[0m\u001b[0m\n\u001b[1;32m    188\u001b[0m         \u001b[0msol\u001b[0m \u001b[0;34m=\u001b[0m \u001b[0m_root_leastsq\u001b[0m\u001b[0;34m(\u001b[0m\u001b[0mfun\u001b[0m\u001b[0;34m,\u001b[0m \u001b[0mx0\u001b[0m\u001b[0;34m,\u001b[0m \u001b[0margs\u001b[0m\u001b[0;34m=\u001b[0m\u001b[0margs\u001b[0m\u001b[0;34m,\u001b[0m \u001b[0mjac\u001b[0m\u001b[0;34m=\u001b[0m\u001b[0mjac\u001b[0m\u001b[0;34m,\u001b[0m \u001b[0;34m**\u001b[0m\u001b[0moptions\u001b[0m\u001b[0;34m)\u001b[0m\u001b[0;34m\u001b[0m\u001b[0m\n",
      "\u001b[0;32m/anaconda/lib/python3.6/site-packages/scipy/optimize/minpack.py\u001b[0m in \u001b[0;36m_root_hybr\u001b[0;34m(func, x0, args, jac, col_deriv, xtol, maxfev, band, eps, factor, diag, **unknown_options)\u001b[0m\n\u001b[1;32m    222\u001b[0m             \u001b[0mmaxfev\u001b[0m \u001b[0;34m=\u001b[0m \u001b[0;36m200\u001b[0m \u001b[0;34m*\u001b[0m \u001b[0;34m(\u001b[0m\u001b[0mn\u001b[0m \u001b[0;34m+\u001b[0m \u001b[0;36m1\u001b[0m\u001b[0;34m)\u001b[0m\u001b[0;34m\u001b[0m\u001b[0m\n\u001b[1;32m    223\u001b[0m         retval = _minpack._hybrd(func, x0, args, 1, xtol, maxfev,\n\u001b[0;32m--> 224\u001b[0;31m                                  ml, mu, epsfcn, factor, diag)\n\u001b[0m\u001b[1;32m    225\u001b[0m     \u001b[0;32melse\u001b[0m\u001b[0;34m:\u001b[0m\u001b[0;34m\u001b[0m\u001b[0m\n\u001b[1;32m    226\u001b[0m         \u001b[0m_check_func\u001b[0m\u001b[0;34m(\u001b[0m\u001b[0;34m'fsolve'\u001b[0m\u001b[0;34m,\u001b[0m \u001b[0;34m'fprime'\u001b[0m\u001b[0;34m,\u001b[0m \u001b[0mDfun\u001b[0m\u001b[0;34m,\u001b[0m \u001b[0mx0\u001b[0m\u001b[0;34m,\u001b[0m \u001b[0margs\u001b[0m\u001b[0;34m,\u001b[0m \u001b[0mn\u001b[0m\u001b[0;34m,\u001b[0m \u001b[0;34m(\u001b[0m\u001b[0mn\u001b[0m\u001b[0;34m,\u001b[0m \u001b[0mn\u001b[0m\u001b[0;34m)\u001b[0m\u001b[0;34m)\u001b[0m\u001b[0;34m\u001b[0m\u001b[0m\n",
      "\u001b[0;32m<ipython-input-31-4d7b0bff9cb0>\u001b[0m in \u001b[0;36mSS_error\u001b[0;34m(concat_bvec, *args)\u001b[0m\n\u001b[1;32m     10\u001b[0m     \u001b[0mV_args\u001b[0m \u001b[0;34m=\u001b[0m \u001b[0;34m(\u001b[0m\u001b[0mbvec_h\u001b[0m\u001b[0;34m,\u001b[0m \u001b[0mbvec_f\u001b[0m\u001b[0;34m,\u001b[0m \u001b[0magg_b\u001b[0m\u001b[0;34m,\u001b[0m \u001b[0mnvec_h\u001b[0m\u001b[0;34m,\u001b[0m \u001b[0mnvec_f\u001b[0m\u001b[0;34m,\u001b[0m \u001b[0mL_h\u001b[0m\u001b[0;34m,\u001b[0m \u001b[0mL_f\u001b[0m\u001b[0;34m,\u001b[0m \u001b[0mZ_h\u001b[0m\u001b[0;34m,\u001b[0m \u001b[0mZ_f\u001b[0m\u001b[0;34m,\u001b[0m               \u001b[0mgamma_h\u001b[0m\u001b[0;34m,\u001b[0m \u001b[0mgamma_f\u001b[0m\u001b[0;34m,\u001b[0m \u001b[0mdelta_h\u001b[0m\u001b[0;34m,\u001b[0m \u001b[0mdelta_f\u001b[0m\u001b[0;34m,\u001b[0m \u001b[0mtheta_h\u001b[0m\u001b[0;34m,\u001b[0m \u001b[0mtheta_f\u001b[0m\u001b[0;34m,\u001b[0m \u001b[0mS\u001b[0m\u001b[0;34m)\u001b[0m\u001b[0;34m\u001b[0m\u001b[0m\n\u001b[1;32m     11\u001b[0m \u001b[0;34m\u001b[0m\u001b[0m\n\u001b[0;32m---> 12\u001b[0;31m     \u001b[0malpha_result\u001b[0m \u001b[0;34m=\u001b[0m \u001b[0mopt\u001b[0m\u001b[0;34m.\u001b[0m\u001b[0mminimize_scalar\u001b[0m\u001b[0;34m(\u001b[0m\u001b[0mV_error\u001b[0m\u001b[0;34m,\u001b[0m \u001b[0margs\u001b[0m\u001b[0;34m=\u001b[0m\u001b[0mV_args\u001b[0m\u001b[0;34m,\u001b[0m \u001b[0mbounds\u001b[0m\u001b[0;34m=\u001b[0m\u001b[0;34m(\u001b[0m\u001b[0;36m0\u001b[0m\u001b[0;34m,\u001b[0m \u001b[0;36m1\u001b[0m\u001b[0;34m)\u001b[0m\u001b[0;34m,\u001b[0m \u001b[0mmethod\u001b[0m\u001b[0;34m=\u001b[0m\u001b[0;34m'bounded'\u001b[0m\u001b[0;34m)\u001b[0m\u001b[0;34m\u001b[0m\u001b[0m\n\u001b[0m\u001b[1;32m     13\u001b[0m     \u001b[0;32mif\u001b[0m \u001b[0;32mnot\u001b[0m \u001b[0malpha_result\u001b[0m\u001b[0;34m.\u001b[0m\u001b[0msuccess\u001b[0m\u001b[0;34m:\u001b[0m\u001b[0;34m\u001b[0m\u001b[0m\n\u001b[1;32m     14\u001b[0m         \u001b[0mprint\u001b[0m\u001b[0;34m(\u001b[0m\u001b[0;34m\"Minimizer for alpha has failed.\"\u001b[0m\u001b[0;34m)\u001b[0m\u001b[0;34m\u001b[0m\u001b[0m\n",
      "\u001b[0;32m/anaconda/lib/python3.6/site-packages/scipy/optimize/_minimize.py\u001b[0m in \u001b[0;36mminimize_scalar\u001b[0;34m(fun, bracket, bounds, args, method, tol, options)\u001b[0m\n\u001b[1;32m    613\u001b[0m             raise ValueError('The `bounds` parameter is mandatory for '\n\u001b[1;32m    614\u001b[0m                              'method `bounded`.')\n\u001b[0;32m--> 615\u001b[0;31m         \u001b[0;32mreturn\u001b[0m \u001b[0m_minimize_scalar_bounded\u001b[0m\u001b[0;34m(\u001b[0m\u001b[0mfun\u001b[0m\u001b[0;34m,\u001b[0m \u001b[0mbounds\u001b[0m\u001b[0;34m,\u001b[0m \u001b[0margs\u001b[0m\u001b[0;34m,\u001b[0m \u001b[0;34m**\u001b[0m\u001b[0moptions\u001b[0m\u001b[0;34m)\u001b[0m\u001b[0;34m\u001b[0m\u001b[0m\n\u001b[0m\u001b[1;32m    616\u001b[0m     \u001b[0;32melif\u001b[0m \u001b[0mmeth\u001b[0m \u001b[0;34m==\u001b[0m \u001b[0;34m'golden'\u001b[0m\u001b[0;34m:\u001b[0m\u001b[0;34m\u001b[0m\u001b[0m\n\u001b[1;32m    617\u001b[0m         \u001b[0;32mreturn\u001b[0m \u001b[0m_minimize_scalar_golden\u001b[0m\u001b[0;34m(\u001b[0m\u001b[0mfun\u001b[0m\u001b[0;34m,\u001b[0m \u001b[0mbracket\u001b[0m\u001b[0;34m,\u001b[0m \u001b[0margs\u001b[0m\u001b[0;34m,\u001b[0m \u001b[0;34m**\u001b[0m\u001b[0moptions\u001b[0m\u001b[0;34m)\u001b[0m\u001b[0;34m\u001b[0m\u001b[0m\n",
      "\u001b[0;32m/anaconda/lib/python3.6/site-packages/scipy/optimize/optimize.py\u001b[0m in \u001b[0;36m_minimize_scalar_bounded\u001b[0;34m(func, bounds, args, xatol, maxiter, disp, **unknown_options)\u001b[0m\n\u001b[1;32m   1714\u001b[0m         \u001b[0msi\u001b[0m \u001b[0;34m=\u001b[0m \u001b[0mnumpy\u001b[0m\u001b[0;34m.\u001b[0m\u001b[0msign\u001b[0m\u001b[0;34m(\u001b[0m\u001b[0mrat\u001b[0m\u001b[0;34m)\u001b[0m \u001b[0;34m+\u001b[0m \u001b[0;34m(\u001b[0m\u001b[0mrat\u001b[0m \u001b[0;34m==\u001b[0m \u001b[0;36m0\u001b[0m\u001b[0;34m)\u001b[0m\u001b[0;34m\u001b[0m\u001b[0m\n\u001b[1;32m   1715\u001b[0m         \u001b[0mx\u001b[0m \u001b[0;34m=\u001b[0m \u001b[0mxf\u001b[0m \u001b[0;34m+\u001b[0m \u001b[0msi\u001b[0m \u001b[0;34m*\u001b[0m \u001b[0mnumpy\u001b[0m\u001b[0;34m.\u001b[0m\u001b[0mmax\u001b[0m\u001b[0;34m(\u001b[0m\u001b[0;34m[\u001b[0m\u001b[0mnumpy\u001b[0m\u001b[0;34m.\u001b[0m\u001b[0mabs\u001b[0m\u001b[0;34m(\u001b[0m\u001b[0mrat\u001b[0m\u001b[0;34m)\u001b[0m\u001b[0;34m,\u001b[0m \u001b[0mtol1\u001b[0m\u001b[0;34m]\u001b[0m\u001b[0;34m)\u001b[0m\u001b[0;34m\u001b[0m\u001b[0m\n\u001b[0;32m-> 1716\u001b[0;31m         \u001b[0mfu\u001b[0m \u001b[0;34m=\u001b[0m \u001b[0mfunc\u001b[0m\u001b[0;34m(\u001b[0m\u001b[0mx\u001b[0m\u001b[0;34m,\u001b[0m \u001b[0;34m*\u001b[0m\u001b[0margs\u001b[0m\u001b[0;34m)\u001b[0m\u001b[0;34m\u001b[0m\u001b[0m\n\u001b[0m\u001b[1;32m   1717\u001b[0m         \u001b[0mnum\u001b[0m \u001b[0;34m+=\u001b[0m \u001b[0;36m1\u001b[0m\u001b[0;34m\u001b[0m\u001b[0m\n\u001b[1;32m   1718\u001b[0m         \u001b[0mfmin_data\u001b[0m \u001b[0;34m=\u001b[0m \u001b[0;34m(\u001b[0m\u001b[0mnum\u001b[0m\u001b[0;34m,\u001b[0m \u001b[0mx\u001b[0m\u001b[0;34m,\u001b[0m \u001b[0mfu\u001b[0m\u001b[0;34m)\u001b[0m\u001b[0;34m\u001b[0m\u001b[0m\n",
      "\u001b[0;32m<ipython-input-30-8f569e9f497d>\u001b[0m in \u001b[0;36mV_error\u001b[0;34m(alpha, *args)\u001b[0m\n\u001b[1;32m     74\u001b[0m     \u001b[0mprices_args\u001b[0m \u001b[0;34m=\u001b[0m \u001b[0;34m(\u001b[0m\u001b[0malpha\u001b[0m\u001b[0;34m,\u001b[0m \u001b[0;34m*\u001b[0m\u001b[0margs\u001b[0m\u001b[0;34m)\u001b[0m\u001b[0;34m\u001b[0m\u001b[0m\n\u001b[1;32m     75\u001b[0m \u001b[0;34m\u001b[0m\u001b[0m\n\u001b[0;32m---> 76\u001b[0;31m     \u001b[0mprices_result\u001b[0m \u001b[0;34m=\u001b[0m \u001b[0mopt\u001b[0m\u001b[0;34m.\u001b[0m\u001b[0mroot\u001b[0m\u001b[0;34m(\u001b[0m\u001b[0mprices_error\u001b[0m\u001b[0;34m,\u001b[0m \u001b[0mprices_guess\u001b[0m\u001b[0;34m,\u001b[0m \u001b[0margs\u001b[0m\u001b[0;34m=\u001b[0m\u001b[0mprices_args\u001b[0m\u001b[0;34m,\u001b[0m \u001b[0mtol\u001b[0m\u001b[0;34m=\u001b[0m\u001b[0mSS_tol\u001b[0m\u001b[0;34m)\u001b[0m\u001b[0;34m\u001b[0m\u001b[0m\n\u001b[0m\u001b[1;32m     77\u001b[0m     \u001b[0;32mif\u001b[0m \u001b[0;32mnot\u001b[0m \u001b[0mprices_result\u001b[0m\u001b[0;34m.\u001b[0m\u001b[0msuccess\u001b[0m\u001b[0;34m:\u001b[0m\u001b[0;34m\u001b[0m\u001b[0m\n\u001b[1;32m     78\u001b[0m         \u001b[0mprint\u001b[0m\u001b[0;34m(\u001b[0m\u001b[0;34m\"Root finder for prices failed in alpha minimizer.\"\u001b[0m\u001b[0;34m)\u001b[0m\u001b[0;34m\u001b[0m\u001b[0m\n",
      "\u001b[0;32m/anaconda/lib/python3.6/site-packages/scipy/optimize/_root.py\u001b[0m in \u001b[0;36mroot\u001b[0;34m(fun, x0, args, method, jac, tol, callback, options)\u001b[0m\n\u001b[1;32m    184\u001b[0m \u001b[0;34m\u001b[0m\u001b[0m\n\u001b[1;32m    185\u001b[0m     \u001b[0;32mif\u001b[0m \u001b[0mmeth\u001b[0m \u001b[0;34m==\u001b[0m \u001b[0;34m'hybr'\u001b[0m\u001b[0;34m:\u001b[0m\u001b[0;34m\u001b[0m\u001b[0m\n\u001b[0;32m--> 186\u001b[0;31m         \u001b[0msol\u001b[0m \u001b[0;34m=\u001b[0m \u001b[0m_root_hybr\u001b[0m\u001b[0;34m(\u001b[0m\u001b[0mfun\u001b[0m\u001b[0;34m,\u001b[0m \u001b[0mx0\u001b[0m\u001b[0;34m,\u001b[0m \u001b[0margs\u001b[0m\u001b[0;34m=\u001b[0m\u001b[0margs\u001b[0m\u001b[0;34m,\u001b[0m \u001b[0mjac\u001b[0m\u001b[0;34m=\u001b[0m\u001b[0mjac\u001b[0m\u001b[0;34m,\u001b[0m \u001b[0;34m**\u001b[0m\u001b[0moptions\u001b[0m\u001b[0;34m)\u001b[0m\u001b[0;34m\u001b[0m\u001b[0m\n\u001b[0m\u001b[1;32m    187\u001b[0m     \u001b[0;32melif\u001b[0m \u001b[0mmeth\u001b[0m \u001b[0;34m==\u001b[0m \u001b[0;34m'lm'\u001b[0m\u001b[0;34m:\u001b[0m\u001b[0;34m\u001b[0m\u001b[0m\n\u001b[1;32m    188\u001b[0m         \u001b[0msol\u001b[0m \u001b[0;34m=\u001b[0m \u001b[0m_root_leastsq\u001b[0m\u001b[0;34m(\u001b[0m\u001b[0mfun\u001b[0m\u001b[0;34m,\u001b[0m \u001b[0mx0\u001b[0m\u001b[0;34m,\u001b[0m \u001b[0margs\u001b[0m\u001b[0;34m=\u001b[0m\u001b[0margs\u001b[0m\u001b[0;34m,\u001b[0m \u001b[0mjac\u001b[0m\u001b[0;34m=\u001b[0m\u001b[0mjac\u001b[0m\u001b[0;34m,\u001b[0m \u001b[0;34m**\u001b[0m\u001b[0moptions\u001b[0m\u001b[0;34m)\u001b[0m\u001b[0;34m\u001b[0m\u001b[0m\n",
      "\u001b[0;32m/anaconda/lib/python3.6/site-packages/scipy/optimize/minpack.py\u001b[0m in \u001b[0;36m_root_hybr\u001b[0;34m(func, x0, args, jac, col_deriv, xtol, maxfev, band, eps, factor, diag, **unknown_options)\u001b[0m\n\u001b[1;32m    222\u001b[0m             \u001b[0mmaxfev\u001b[0m \u001b[0;34m=\u001b[0m \u001b[0;36m200\u001b[0m \u001b[0;34m*\u001b[0m \u001b[0;34m(\u001b[0m\u001b[0mn\u001b[0m \u001b[0;34m+\u001b[0m \u001b[0;36m1\u001b[0m\u001b[0;34m)\u001b[0m\u001b[0;34m\u001b[0m\u001b[0m\n\u001b[1;32m    223\u001b[0m         retval = _minpack._hybrd(func, x0, args, 1, xtol, maxfev,\n\u001b[0;32m--> 224\u001b[0;31m                                  ml, mu, epsfcn, factor, diag)\n\u001b[0m\u001b[1;32m    225\u001b[0m     \u001b[0;32melse\u001b[0m\u001b[0;34m:\u001b[0m\u001b[0;34m\u001b[0m\u001b[0m\n\u001b[1;32m    226\u001b[0m         \u001b[0m_check_func\u001b[0m\u001b[0;34m(\u001b[0m\u001b[0;34m'fsolve'\u001b[0m\u001b[0;34m,\u001b[0m \u001b[0;34m'fprime'\u001b[0m\u001b[0;34m,\u001b[0m \u001b[0mDfun\u001b[0m\u001b[0;34m,\u001b[0m \u001b[0mx0\u001b[0m\u001b[0;34m,\u001b[0m \u001b[0margs\u001b[0m\u001b[0;34m,\u001b[0m \u001b[0mn\u001b[0m\u001b[0;34m,\u001b[0m \u001b[0;34m(\u001b[0m\u001b[0mn\u001b[0m\u001b[0;34m,\u001b[0m \u001b[0mn\u001b[0m\u001b[0;34m)\u001b[0m\u001b[0;34m)\u001b[0m\u001b[0;34m\u001b[0m\u001b[0m\n",
      "\u001b[0;32m<ipython-input-30-8f569e9f497d>\u001b[0m in \u001b[0;36mprices_error\u001b[0;34m(prices, *args)\u001b[0m\n\u001b[1;32m     39\u001b[0m     \u001b[0malpha\u001b[0m\u001b[0;34m,\u001b[0m \u001b[0mbvec_h\u001b[0m\u001b[0;34m,\u001b[0m \u001b[0mbvec_f\u001b[0m\u001b[0;34m,\u001b[0m \u001b[0magg_b\u001b[0m\u001b[0;34m,\u001b[0m \u001b[0mnvec_h\u001b[0m\u001b[0;34m,\u001b[0m \u001b[0mnvec_f\u001b[0m\u001b[0;34m,\u001b[0m \u001b[0mL_h\u001b[0m\u001b[0;34m,\u001b[0m \u001b[0mL_f\u001b[0m\u001b[0;34m,\u001b[0m \u001b[0mZ_h\u001b[0m\u001b[0;34m,\u001b[0m \u001b[0mZ_f\u001b[0m\u001b[0;34m,\u001b[0m     \u001b[0mgamma_h\u001b[0m\u001b[0;34m,\u001b[0m \u001b[0mgamma_f\u001b[0m\u001b[0;34m,\u001b[0m \u001b[0mdelta_h\u001b[0m\u001b[0;34m,\u001b[0m \u001b[0mdelta_f\u001b[0m\u001b[0;34m,\u001b[0m \u001b[0mtheta_h\u001b[0m\u001b[0;34m,\u001b[0m \u001b[0mtheta_f\u001b[0m\u001b[0;34m,\u001b[0m \u001b[0mS\u001b[0m \u001b[0;34m=\u001b[0m \u001b[0margs\u001b[0m\u001b[0;34m\u001b[0m\u001b[0m\n\u001b[1;32m     40\u001b[0m \u001b[0;34m\u001b[0m\u001b[0m\n\u001b[0;32m---> 41\u001b[0;31m     \u001b[0mK_h\u001b[0m\u001b[0;34m,\u001b[0m \u001b[0mK_f\u001b[0m\u001b[0;34m,\u001b[0m \u001b[0mr\u001b[0m\u001b[0;34m,\u001b[0m \u001b[0mw_h\u001b[0m\u001b[0;34m,\u001b[0m \u001b[0mw_f\u001b[0m \u001b[0;34m=\u001b[0m \u001b[0msolve_r\u001b[0m\u001b[0;34m(\u001b[0m\u001b[0magg_b\u001b[0m\u001b[0;34m,\u001b[0m \u001b[0mL_h\u001b[0m\u001b[0;34m,\u001b[0m \u001b[0mL_f\u001b[0m\u001b[0;34m,\u001b[0m \u001b[0mZ_h\u001b[0m\u001b[0;34m,\u001b[0m \u001b[0mZ_f\u001b[0m\u001b[0;34m,\u001b[0m \u001b[0mP_h\u001b[0m\u001b[0;34m,\u001b[0m \u001b[0mP_f\u001b[0m\u001b[0;34m,\u001b[0m \u001b[0mgamma_h\u001b[0m\u001b[0;34m,\u001b[0m \u001b[0mgamma_f\u001b[0m\u001b[0;34m,\u001b[0m \u001b[0mdelta_h\u001b[0m\u001b[0;34m,\u001b[0m \u001b[0mdelta_f\u001b[0m\u001b[0;34m)\u001b[0m\u001b[0;34m\u001b[0m\u001b[0m\n\u001b[0m\u001b[1;32m     42\u001b[0m \u001b[0;34m\u001b[0m\u001b[0m\n\u001b[1;32m     43\u001b[0m     \u001b[0mP\u001b[0m \u001b[0;34m=\u001b[0m \u001b[0mget_P\u001b[0m\u001b[0;34m(\u001b[0m\u001b[0mtheta_h\u001b[0m\u001b[0;34m,\u001b[0m \u001b[0mP_h\u001b[0m\u001b[0;34m,\u001b[0m \u001b[0mP_f\u001b[0m\u001b[0;34m,\u001b[0m \u001b[0;36m1\u001b[0m \u001b[0;34m/\u001b[0m \u001b[0me\u001b[0m\u001b[0;34m)\u001b[0m\u001b[0;34m\u001b[0m\u001b[0m\n",
      "\u001b[0;32m<ipython-input-30-8f569e9f497d>\u001b[0m in \u001b[0;36msolve_r\u001b[0;34m(*args)\u001b[0m\n\u001b[1;32m     25\u001b[0m \u001b[0;32mdef\u001b[0m \u001b[0msolve_r\u001b[0m\u001b[0;34m(\u001b[0m\u001b[0;34m*\u001b[0m\u001b[0margs\u001b[0m\u001b[0;34m)\u001b[0m\u001b[0;34m:\u001b[0m\u001b[0;34m\u001b[0m\u001b[0m\n\u001b[1;32m     26\u001b[0m     \u001b[0magg_b\u001b[0m\u001b[0;34m,\u001b[0m \u001b[0mL_h\u001b[0m\u001b[0;34m,\u001b[0m \u001b[0mL_f\u001b[0m\u001b[0;34m,\u001b[0m \u001b[0mZ_h\u001b[0m\u001b[0;34m,\u001b[0m \u001b[0mZ_f\u001b[0m\u001b[0;34m,\u001b[0m \u001b[0mP_h\u001b[0m\u001b[0;34m,\u001b[0m \u001b[0mP_f\u001b[0m\u001b[0;34m,\u001b[0m \u001b[0mgamma_h\u001b[0m\u001b[0;34m,\u001b[0m \u001b[0mgamma_f\u001b[0m\u001b[0;34m,\u001b[0m \u001b[0mdelta_h\u001b[0m\u001b[0;34m,\u001b[0m \u001b[0mdelta_f\u001b[0m \u001b[0;34m=\u001b[0m \u001b[0margs\u001b[0m\u001b[0;34m\u001b[0m\u001b[0m\n\u001b[0;32m---> 27\u001b[0;31m     \u001b[0mK_h_result\u001b[0m \u001b[0;34m=\u001b[0m \u001b[0mopt\u001b[0m\u001b[0;34m.\u001b[0m\u001b[0mminimize_scalar\u001b[0m\u001b[0;34m(\u001b[0m\u001b[0mr_error\u001b[0m\u001b[0;34m,\u001b[0m \u001b[0mbracket\u001b[0m\u001b[0;34m=\u001b[0m\u001b[0;34m(\u001b[0m\u001b[0;36m0\u001b[0m\u001b[0;34m,\u001b[0m \u001b[0magg_b\u001b[0m\u001b[0;34m)\u001b[0m\u001b[0;34m,\u001b[0m \u001b[0margs\u001b[0m\u001b[0;34m=\u001b[0m\u001b[0margs\u001b[0m\u001b[0;34m,\u001b[0m \u001b[0mtol\u001b[0m\u001b[0;34m=\u001b[0m\u001b[0mSS_tol\u001b[0m\u001b[0;34m)\u001b[0m\u001b[0;34m\u001b[0m\u001b[0m\n\u001b[0m\u001b[1;32m     28\u001b[0m     \u001b[0;32mif\u001b[0m \u001b[0;32mnot\u001b[0m \u001b[0mK_h_result\u001b[0m\u001b[0;34m.\u001b[0m\u001b[0msuccess\u001b[0m\u001b[0;34m:\u001b[0m\u001b[0;34m\u001b[0m\u001b[0m\n\u001b[1;32m     29\u001b[0m         \u001b[0mprint\u001b[0m\u001b[0;34m(\u001b[0m\u001b[0;34m\"Minimizer for K_h failed.\"\u001b[0m\u001b[0;34m)\u001b[0m\u001b[0;34m\u001b[0m\u001b[0m\n",
      "\u001b[0;32m/anaconda/lib/python3.6/site-packages/scipy/optimize/_minimize.py\u001b[0m in \u001b[0;36mminimize_scalar\u001b[0;34m(fun, bracket, bounds, args, method, tol, options)\u001b[0m\n\u001b[1;32m    608\u001b[0m         \u001b[0;32mreturn\u001b[0m \u001b[0mmethod\u001b[0m\u001b[0;34m(\u001b[0m\u001b[0mfun\u001b[0m\u001b[0;34m,\u001b[0m \u001b[0margs\u001b[0m\u001b[0;34m=\u001b[0m\u001b[0margs\u001b[0m\u001b[0;34m,\u001b[0m \u001b[0mbracket\u001b[0m\u001b[0;34m=\u001b[0m\u001b[0mbracket\u001b[0m\u001b[0;34m,\u001b[0m \u001b[0mbounds\u001b[0m\u001b[0;34m=\u001b[0m\u001b[0mbounds\u001b[0m\u001b[0;34m,\u001b[0m \u001b[0;34m**\u001b[0m\u001b[0moptions\u001b[0m\u001b[0;34m)\u001b[0m\u001b[0;34m\u001b[0m\u001b[0m\n\u001b[1;32m    609\u001b[0m     \u001b[0;32melif\u001b[0m \u001b[0mmeth\u001b[0m \u001b[0;34m==\u001b[0m \u001b[0;34m'brent'\u001b[0m\u001b[0;34m:\u001b[0m\u001b[0;34m\u001b[0m\u001b[0m\n\u001b[0;32m--> 610\u001b[0;31m         \u001b[0;32mreturn\u001b[0m \u001b[0m_minimize_scalar_brent\u001b[0m\u001b[0;34m(\u001b[0m\u001b[0mfun\u001b[0m\u001b[0;34m,\u001b[0m \u001b[0mbracket\u001b[0m\u001b[0;34m,\u001b[0m \u001b[0margs\u001b[0m\u001b[0;34m,\u001b[0m \u001b[0;34m**\u001b[0m\u001b[0moptions\u001b[0m\u001b[0;34m)\u001b[0m\u001b[0;34m\u001b[0m\u001b[0m\n\u001b[0m\u001b[1;32m    611\u001b[0m     \u001b[0;32melif\u001b[0m \u001b[0mmeth\u001b[0m \u001b[0;34m==\u001b[0m \u001b[0;34m'bounded'\u001b[0m\u001b[0;34m:\u001b[0m\u001b[0;34m\u001b[0m\u001b[0m\n\u001b[1;32m    612\u001b[0m         \u001b[0;32mif\u001b[0m \u001b[0mbounds\u001b[0m \u001b[0;32mis\u001b[0m \u001b[0;32mNone\u001b[0m\u001b[0;34m:\u001b[0m\u001b[0;34m\u001b[0m\u001b[0m\n",
      "\u001b[0;32m/anaconda/lib/python3.6/site-packages/scipy/optimize/optimize.py\u001b[0m in \u001b[0;36m_minimize_scalar_brent\u001b[0;34m(func, brack, args, xtol, maxiter, **unknown_options)\u001b[0m\n\u001b[1;32m   2007\u001b[0m                   full_output=True, maxiter=maxiter)\n\u001b[1;32m   2008\u001b[0m     \u001b[0mbrent\u001b[0m\u001b[0;34m.\u001b[0m\u001b[0mset_bracket\u001b[0m\u001b[0;34m(\u001b[0m\u001b[0mbrack\u001b[0m\u001b[0;34m)\u001b[0m\u001b[0;34m\u001b[0m\u001b[0m\n\u001b[0;32m-> 2009\u001b[0;31m     \u001b[0mbrent\u001b[0m\u001b[0;34m.\u001b[0m\u001b[0moptimize\u001b[0m\u001b[0;34m(\u001b[0m\u001b[0;34m)\u001b[0m\u001b[0;34m\u001b[0m\u001b[0m\n\u001b[0m\u001b[1;32m   2010\u001b[0m     \u001b[0mx\u001b[0m\u001b[0;34m,\u001b[0m \u001b[0mfval\u001b[0m\u001b[0;34m,\u001b[0m \u001b[0mnit\u001b[0m\u001b[0;34m,\u001b[0m \u001b[0mnfev\u001b[0m \u001b[0;34m=\u001b[0m \u001b[0mbrent\u001b[0m\u001b[0;34m.\u001b[0m\u001b[0mget_result\u001b[0m\u001b[0;34m(\u001b[0m\u001b[0mfull_output\u001b[0m\u001b[0;34m=\u001b[0m\u001b[0;32mTrue\u001b[0m\u001b[0;34m)\u001b[0m\u001b[0;34m\u001b[0m\u001b[0m\n\u001b[1;32m   2011\u001b[0m     return OptimizeResult(fun=fval, x=x, nit=nit, nfev=nfev,\n",
      "\u001b[0;32m/anaconda/lib/python3.6/site-packages/scipy/optimize/optimize.py\u001b[0m in \u001b[0;36moptimize\u001b[0;34m(self)\u001b[0m\n\u001b[1;32m   1813\u001b[0m         \u001b[0;31m# set up for optimization\u001b[0m\u001b[0;34m\u001b[0m\u001b[0;34m\u001b[0m\u001b[0m\n\u001b[1;32m   1814\u001b[0m         \u001b[0mfunc\u001b[0m \u001b[0;34m=\u001b[0m \u001b[0mself\u001b[0m\u001b[0;34m.\u001b[0m\u001b[0mfunc\u001b[0m\u001b[0;34m\u001b[0m\u001b[0m\n\u001b[0;32m-> 1815\u001b[0;31m         \u001b[0mxa\u001b[0m\u001b[0;34m,\u001b[0m \u001b[0mxb\u001b[0m\u001b[0;34m,\u001b[0m \u001b[0mxc\u001b[0m\u001b[0;34m,\u001b[0m \u001b[0mfa\u001b[0m\u001b[0;34m,\u001b[0m \u001b[0mfb\u001b[0m\u001b[0;34m,\u001b[0m \u001b[0mfc\u001b[0m\u001b[0;34m,\u001b[0m \u001b[0mfuncalls\u001b[0m \u001b[0;34m=\u001b[0m \u001b[0mself\u001b[0m\u001b[0;34m.\u001b[0m\u001b[0mget_bracket_info\u001b[0m\u001b[0;34m(\u001b[0m\u001b[0;34m)\u001b[0m\u001b[0;34m\u001b[0m\u001b[0m\n\u001b[0m\u001b[1;32m   1816\u001b[0m         \u001b[0m_mintol\u001b[0m \u001b[0;34m=\u001b[0m \u001b[0mself\u001b[0m\u001b[0;34m.\u001b[0m\u001b[0m_mintol\u001b[0m\u001b[0;34m\u001b[0m\u001b[0m\n\u001b[1;32m   1817\u001b[0m         \u001b[0m_cg\u001b[0m \u001b[0;34m=\u001b[0m \u001b[0mself\u001b[0m\u001b[0;34m.\u001b[0m\u001b[0m_cg\u001b[0m\u001b[0;34m\u001b[0m\u001b[0m\n",
      "\u001b[0;32m/anaconda/lib/python3.6/site-packages/scipy/optimize/optimize.py\u001b[0m in \u001b[0;36mget_bracket_info\u001b[0;34m(self)\u001b[0m\n\u001b[1;32m   1790\u001b[0m         \u001b[0;32melif\u001b[0m \u001b[0mlen\u001b[0m\u001b[0;34m(\u001b[0m\u001b[0mbrack\u001b[0m\u001b[0;34m)\u001b[0m \u001b[0;34m==\u001b[0m \u001b[0;36m2\u001b[0m\u001b[0;34m:\u001b[0m\u001b[0;34m\u001b[0m\u001b[0m\n\u001b[1;32m   1791\u001b[0m             xa, xb, xc, fa, fb, fc, funcalls = bracket(func, xa=brack[0],\n\u001b[0;32m-> 1792\u001b[0;31m                                                        xb=brack[1], args=args)\n\u001b[0m\u001b[1;32m   1793\u001b[0m         \u001b[0;32melif\u001b[0m \u001b[0mlen\u001b[0m\u001b[0;34m(\u001b[0m\u001b[0mbrack\u001b[0m\u001b[0;34m)\u001b[0m \u001b[0;34m==\u001b[0m \u001b[0;36m3\u001b[0m\u001b[0;34m:\u001b[0m\u001b[0;34m\u001b[0m\u001b[0m\n\u001b[1;32m   1794\u001b[0m             \u001b[0mxa\u001b[0m\u001b[0;34m,\u001b[0m \u001b[0mxb\u001b[0m\u001b[0;34m,\u001b[0m \u001b[0mxc\u001b[0m \u001b[0;34m=\u001b[0m \u001b[0mbrack\u001b[0m\u001b[0;34m\u001b[0m\u001b[0m\n",
      "\u001b[0;32m/anaconda/lib/python3.6/site-packages/scipy/optimize/optimize.py\u001b[0m in \u001b[0;36mbracket\u001b[0;34m(func, xa, xb, args, grow_limit, maxiter)\u001b[0m\n\u001b[1;32m   2170\u001b[0m     \u001b[0m_gold\u001b[0m \u001b[0;34m=\u001b[0m \u001b[0;36m1.618034\u001b[0m  \u001b[0;31m# golden ratio: (1.0+sqrt(5.0))/2.0\u001b[0m\u001b[0;34m\u001b[0m\u001b[0m\n\u001b[1;32m   2171\u001b[0m     \u001b[0m_verysmall_num\u001b[0m \u001b[0;34m=\u001b[0m \u001b[0;36m1e-21\u001b[0m\u001b[0;34m\u001b[0m\u001b[0m\n\u001b[0;32m-> 2172\u001b[0;31m     \u001b[0mfa\u001b[0m \u001b[0;34m=\u001b[0m \u001b[0mfunc\u001b[0m\u001b[0;34m(\u001b[0m\u001b[0;34m*\u001b[0m\u001b[0;34m(\u001b[0m\u001b[0mxa\u001b[0m\u001b[0;34m,\u001b[0m\u001b[0;34m)\u001b[0m \u001b[0;34m+\u001b[0m \u001b[0margs\u001b[0m\u001b[0;34m)\u001b[0m\u001b[0;34m\u001b[0m\u001b[0m\n\u001b[0m\u001b[1;32m   2173\u001b[0m     \u001b[0mfb\u001b[0m \u001b[0;34m=\u001b[0m \u001b[0mfunc\u001b[0m\u001b[0;34m(\u001b[0m\u001b[0;34m*\u001b[0m\u001b[0;34m(\u001b[0m\u001b[0mxb\u001b[0m\u001b[0;34m,\u001b[0m\u001b[0;34m)\u001b[0m \u001b[0;34m+\u001b[0m \u001b[0margs\u001b[0m\u001b[0;34m)\u001b[0m\u001b[0;34m\u001b[0m\u001b[0m\n\u001b[1;32m   2174\u001b[0m     \u001b[0;32mif\u001b[0m \u001b[0;34m(\u001b[0m\u001b[0mfa\u001b[0m \u001b[0;34m<\u001b[0m \u001b[0mfb\u001b[0m\u001b[0;34m)\u001b[0m\u001b[0;34m:\u001b[0m                      \u001b[0;31m# Switch so fa > fb\u001b[0m\u001b[0;34m\u001b[0m\u001b[0m\n",
      "\u001b[0;32m<ipython-input-30-8f569e9f497d>\u001b[0m in \u001b[0;36mr_error\u001b[0;34m(K_h, *args)\u001b[0m\n\u001b[1;32m     18\u001b[0m \u001b[0;32mdef\u001b[0m \u001b[0mr_error\u001b[0m\u001b[0;34m(\u001b[0m\u001b[0mK_h\u001b[0m\u001b[0;34m,\u001b[0m \u001b[0;34m*\u001b[0m\u001b[0margs\u001b[0m\u001b[0;34m)\u001b[0m\u001b[0;34m:\u001b[0m\u001b[0;34m\u001b[0m\u001b[0m\n\u001b[1;32m     19\u001b[0m     \u001b[0magg_b\u001b[0m\u001b[0;34m,\u001b[0m \u001b[0mL_h\u001b[0m\u001b[0;34m,\u001b[0m \u001b[0mL_f\u001b[0m\u001b[0;34m,\u001b[0m \u001b[0mZ_h\u001b[0m\u001b[0;34m,\u001b[0m \u001b[0mZ_f\u001b[0m\u001b[0;34m,\u001b[0m \u001b[0mP_h\u001b[0m\u001b[0;34m,\u001b[0m \u001b[0mP_f\u001b[0m\u001b[0;34m,\u001b[0m \u001b[0mgamma_h\u001b[0m\u001b[0;34m,\u001b[0m \u001b[0mgamma_f\u001b[0m\u001b[0;34m,\u001b[0m \u001b[0mdelta_h\u001b[0m\u001b[0;34m,\u001b[0m \u001b[0mdelta_f\u001b[0m \u001b[0;34m=\u001b[0m \u001b[0margs\u001b[0m\u001b[0;34m\u001b[0m\u001b[0m\n\u001b[0;32m---> 20\u001b[0;31m     \u001b[0mr_h\u001b[0m \u001b[0;34m=\u001b[0m \u001b[0mget_r\u001b[0m\u001b[0;34m(\u001b[0m\u001b[0mK_h\u001b[0m\u001b[0;34m,\u001b[0m \u001b[0mL_h\u001b[0m\u001b[0;34m,\u001b[0m \u001b[0mZ_h\u001b[0m\u001b[0;34m,\u001b[0m \u001b[0mP_h\u001b[0m\u001b[0;34m,\u001b[0m \u001b[0mgamma_h\u001b[0m\u001b[0;34m,\u001b[0m \u001b[0mdelta_h\u001b[0m\u001b[0;34m)\u001b[0m\u001b[0;34m\u001b[0m\u001b[0m\n\u001b[0m\u001b[1;32m     21\u001b[0m     \u001b[0mK_f\u001b[0m \u001b[0;34m=\u001b[0m \u001b[0magg_b\u001b[0m \u001b[0;34m-\u001b[0m \u001b[0mK_h\u001b[0m\u001b[0;34m\u001b[0m\u001b[0m\n\u001b[1;32m     22\u001b[0m     \u001b[0mr_f\u001b[0m \u001b[0;34m=\u001b[0m \u001b[0mget_r\u001b[0m\u001b[0;34m(\u001b[0m\u001b[0mK_f\u001b[0m\u001b[0;34m,\u001b[0m \u001b[0mL_f\u001b[0m\u001b[0;34m,\u001b[0m \u001b[0mZ_f\u001b[0m\u001b[0;34m,\u001b[0m \u001b[0mP_f\u001b[0m\u001b[0;34m,\u001b[0m \u001b[0mgamma_f\u001b[0m\u001b[0;34m,\u001b[0m \u001b[0mdelta_f\u001b[0m\u001b[0;34m)\u001b[0m\u001b[0;34m\u001b[0m\u001b[0m\n",
      "\u001b[0;32m<ipython-input-4-8946aff91ad3>\u001b[0m in \u001b[0;36mget_r\u001b[0;34m(K, L, Z, P, gamma, delta)\u001b[0m\n\u001b[1;32m     14\u001b[0m \u001b[0;34m\u001b[0m\u001b[0m\n\u001b[1;32m     15\u001b[0m \u001b[0;32mdef\u001b[0m \u001b[0mget_r\u001b[0m\u001b[0;34m(\u001b[0m\u001b[0mK\u001b[0m\u001b[0;34m,\u001b[0m \u001b[0mL\u001b[0m\u001b[0;34m,\u001b[0m \u001b[0mZ\u001b[0m\u001b[0;34m,\u001b[0m \u001b[0mP\u001b[0m\u001b[0;34m,\u001b[0m \u001b[0mgamma\u001b[0m\u001b[0;34m,\u001b[0m \u001b[0mdelta\u001b[0m\u001b[0;34m)\u001b[0m\u001b[0;34m:\u001b[0m\u001b[0;34m\u001b[0m\u001b[0m\n\u001b[0;32m---> 16\u001b[0;31m     \u001b[0;32mreturn\u001b[0m \u001b[0mgamma\u001b[0m \u001b[0;34m*\u001b[0m \u001b[0mZ\u001b[0m \u001b[0;34m*\u001b[0m \u001b[0mP\u001b[0m \u001b[0;34m*\u001b[0m \u001b[0mroot\u001b[0m\u001b[0;34m(\u001b[0m\u001b[0mK\u001b[0m\u001b[0;34m,\u001b[0m \u001b[0;34m(\u001b[0m\u001b[0mgamma\u001b[0m \u001b[0;34m-\u001b[0m \u001b[0;36m1\u001b[0m\u001b[0;34m)\u001b[0m\u001b[0;34m)\u001b[0m \u001b[0;34m*\u001b[0m \u001b[0mroot\u001b[0m\u001b[0;34m(\u001b[0m\u001b[0mL\u001b[0m\u001b[0;34m,\u001b[0m \u001b[0;34m(\u001b[0m\u001b[0;36m1\u001b[0m \u001b[0;34m-\u001b[0m \u001b[0mgamma\u001b[0m\u001b[0;34m)\u001b[0m\u001b[0;34m)\u001b[0m \u001b[0;34m-\u001b[0m \u001b[0mdelta\u001b[0m\u001b[0;34m\u001b[0m\u001b[0m\n\u001b[0m\u001b[1;32m     17\u001b[0m \u001b[0;34m\u001b[0m\u001b[0m\n\u001b[1;32m     18\u001b[0m \u001b[0;32mdef\u001b[0m \u001b[0mget_w\u001b[0m\u001b[0;34m(\u001b[0m\u001b[0mK\u001b[0m\u001b[0;34m,\u001b[0m \u001b[0mL\u001b[0m\u001b[0;34m,\u001b[0m \u001b[0mZ\u001b[0m\u001b[0;34m,\u001b[0m \u001b[0mP\u001b[0m\u001b[0;34m,\u001b[0m \u001b[0mgamma\u001b[0m\u001b[0;34m)\u001b[0m\u001b[0;34m:\u001b[0m\u001b[0;34m\u001b[0m\u001b[0m\n",
      "\u001b[0;32m/Users/Ian/LgOpenOG/stitch.py\u001b[0m in \u001b[0;36mf_stitch\u001b[0;34m(x, *args)\u001b[0m\n\u001b[1;32m      6\u001b[0m         \u001b[0;32mif\u001b[0m \u001b[0mub\u001b[0m \u001b[0;32mis\u001b[0m \u001b[0;32mNone\u001b[0m\u001b[0;34m:\u001b[0m\u001b[0;34m\u001b[0m\u001b[0m\n\u001b[1;32m      7\u001b[0m             \u001b[0mlb\u001b[0m \u001b[0;34m=\u001b[0m \u001b[0mlb\u001b[0m \u001b[0;34m+\u001b[0m \u001b[0mepsilon\u001b[0m\u001b[0;34m\u001b[0m\u001b[0m\n\u001b[0;32m----> 8\u001b[0;31m             \u001b[0;32mdef\u001b[0m \u001b[0mf_stitch\u001b[0m\u001b[0;34m(\u001b[0m\u001b[0mx\u001b[0m\u001b[0;34m,\u001b[0m \u001b[0;34m*\u001b[0m\u001b[0margs\u001b[0m\u001b[0;34m)\u001b[0m\u001b[0;34m:\u001b[0m\u001b[0;34m\u001b[0m\u001b[0m\n\u001b[0m\u001b[1;32m      9\u001b[0m                 \u001b[0;32mif\u001b[0m \u001b[0mnp\u001b[0m\u001b[0;34m.\u001b[0m\u001b[0mndim\u001b[0m\u001b[0;34m(\u001b[0m\u001b[0mx\u001b[0m\u001b[0;34m)\u001b[0m \u001b[0;34m==\u001b[0m \u001b[0;36m0\u001b[0m\u001b[0;34m:\u001b[0m\u001b[0;34m\u001b[0m\u001b[0m\n\u001b[1;32m     10\u001b[0m                     \u001b[0;32mif\u001b[0m \u001b[0mx\u001b[0m \u001b[0;34m<\u001b[0m \u001b[0mlb\u001b[0m\u001b[0;34m:\u001b[0m\u001b[0;34m\u001b[0m\u001b[0m\n",
      "\u001b[0;31mKeyboardInterrupt\u001b[0m: "
     ]
    }
   ],
   "source": [
    "#Extremely sensitive to initial conditions and parameters.\n",
    "concat_bvec_guess = np.ones(2 * S - 2) #np.concatenate((bvec_h, bvec_f)) \n",
    "SS_args = (nvec_h, nvec_f, L_h, L_f, Z_h, Z_f, gamma_h, gamma_f, delta_h, delta_f, theta_h, theta_f, beta, sigma, S)\n",
    "result = opt.root(SS_error, concat_bvec_guess, args=SS_args, tol=SS_tol)\n",
    "if not result.success:\n",
    "    print(result)"
   ]
  },
  {
   "cell_type": "code",
   "execution_count": 13,
   "metadata": {
    "collapsed": false
   },
   "outputs": [
    {
     "data": {
      "image/png": "[encoded data removed]",
      "text/plain": [
       "<matplotlib.figure.Figure at 0x1124ddb38>"
      ]
     },
     "metadata": {},
     "output_type": "display_data"
    }
   ],
   "source": [
    "domain = np.linspace(0, 1, 100)\n",
    " \n",
    "concat_bvec = 5 * np.ones(2 * S - 2)\n",
    "\n",
    "bvec_h = concat_bvec[:S - 1]\n",
    "    \n",
    "bvec_f = concat_bvec[S - 1:]\n",
    "    \n",
    "agg_b = np.sum(concat_bvec)\n",
    "    \n",
    "V_args = (bvec_h, bvec_f, agg_b, nvec_h, nvec_f, L_h, L_f, Z_h, Z_f, \\\n",
    "          gamma_h, gamma_f, delta_h, delta_f, theta_h, theta_f, S) \n",
    "    \n",
    "plt.plot(domain, [V_error(alpha, *V_args) for alpha in domain])\n",
    "plt.show()"
   ]
  },
  {
   "cell_type": "code",
   "execution_count": null,
   "metadata": {
    "collapsed": true
   },
   "outputs": [],
   "source": [
    "#bvec_h = result.x[:S - 1]\n",
    "#bvec_f = result.x[S - 1:]\n",
    "#agg_b = np.sum(result.x)\n",
    "#    \n",
    "#P_h_guess = 1.0\n",
    "#P_f_guess = 1.0\n",
    "#e_guess = 1.0\n",
    "#\n",
    "#prices_guess = np.array([P_h_guess, P_f_guess, e_guess])\n",
    "#\n",
    "#prices_args = (bvec_h, bvec_f, agg_b, nvec_h, nvec_f, L_h, L_f, Z_h, Z_f, gamma_h, gamma_f, delta_h, delta_f, theta_h, theta_f, S)\n",
    "#\n",
    "#prices_result = opt.root(prices_error, prices_guess, args=prices_args, tol=SS_tol)\n",
    "#if not prices_result.success:\n",
    "#    print(\"Root finder for prices failed.\")\n",
    "#\n",
    "#P_h, P_f, e = prices_result.x\n",
    "#\n",
    "#K_h, K_f, r, w_h, w_f = solve_r(agg_b, L_h, L_f, Z_h, Z_f, P_h, P_f, gamma_h, gamma_f, delta_h, delta_f)\n",
    "#    \n",
    "#P = get_P(theta_h, P_h, P_f, 1 / e)\n",
    "#P_star = get_P(theta_f, P_f, P_h, e)\n",
    "#\n",
    "#cvec_h = get_cvec(bvec_h, nvec_h, w_h, r, P, S)\n",
    "#cvec_f = get_cvec(bvec_f, nvec_f, w_f, r, P_star, S)\n",
    "#\n",
    "#cvec_hh = (1 - theta_h) * (P / P_h) * cvec_h\n",
    "#cvec_hf = theta_h * ((P * e) / P_f) * cvec_h\n",
    "#cvec_ff = (1 - theta_f) * (P_star / P_f) * cvec_f\n",
    "#cvec_fh = theta_f * (P_star / (e * P_h)) * cvec_f\n",
    "#\n",
    "#Y_h = get_Y(K_h, L_h, Z_h, gamma_h)\n",
    "#Y_f = get_Y(K_f, L_f, Z_f, gamma_f)"
   ]
  },
  {
   "cell_type": "code",
   "execution_count": null,
   "metadata": {
    "collapsed": true
   },
   "outputs": [],
   "source": [
    "def prices_error(prices, *args):\n",
    "    P_h, P_f, e = prices\n",
    "    alpha, bvec_h, bvec_f, agg_b, nvec_h, nvec_f, L_h, L_f, Z_h, Z_f, \\\n",
    "    gamma_h, gamma_f, delta_h, delta_f, theta_h, theta_f, S = args\n",
    "    \n",
    "    K_h, K_f, r, w_h, w_f = solve_r(agg_b, L_h, L_f, Z_h, Z_f, P_h, P_f, gamma_h, gamma_f, delta_h, delta_f)\n",
    "    \n",
    "    P = get_P(theta_h, P_h, P_f, 1 / e)\n",
    "    P_star = get_P(theta_f, P_f, P_h, e)\n",
    "    \n",
    "    cvec_h = get_cvec(bvec_h, nvec_h, w_h, r, P, S)\n",
    "    cvec_f = get_cvec(bvec_f, nvec_f, w_f, r, P_star, S)\n",
    "    \n",
    "    cvec_hh = (1 - theta_h) * (P / P_h) * cvec_h\n",
    "    cvec_hf = theta_h * ((P * e) / P_f) * cvec_h\n",
    "    cvec_ff = (1 - theta_f) * (P_star / P_f) * cvec_f\n",
    "    cvec_fh = theta_f * (P_star / (e * P_h)) * cvec_f\n",
    "    \n",
    "    Y_h = get_Y(K_h, L_h, Z_h, gamma_h)\n",
    "    Y_f = get_Y(K_f, L_f, Z_f, gamma_f)\n",
    "    \n",
    "    agg_I = delta_f * K_f + delta_h * K_h\n",
    "    \n",
    "    error_h = Y_h - np.sum(cvec_hh) - np.sum(cvec_fh) - alpha * agg_I\n",
    "    error_f = Y_f - np.sum(cvec_hf) - np.sum(cvec_ff) - (1 - alpha) * agg_I\n",
    "    error_e = P_h * np.sum(cvec_fh) - (P_f / e) * np.sum(cvec_hf)\n",
    "    \n",
    "    return (error_h, error_f, error_e)"
   ]
  },
  {
   "cell_type": "code",
   "execution_count": null,
   "metadata": {
    "collapsed": true
   },
   "outputs": [],
   "source": [
    "def f(alpha):\n",
    "    bvec_h = result.x[:S - 1]\n",
    "    bvec_f = result.x[S - 1:]\n",
    "    agg_b = np.sum(result.x)\n",
    "        \n",
    "    P_h_guess = 1.0\n",
    "    P_f_guess = 1.0\n",
    "    e_guess = 1.0\n",
    "    \n",
    "    prices_guess = np.array([P_h_guess, P_f_guess, e_guess])\n",
    "    \n",
    "    prices_args = (alpha, bvec_h, bvec_f, agg_b, nvec_h, nvec_f, L_h, L_f, Z_h, Z_f, gamma_h, gamma_f, delta_h, delta_f, theta_h, theta_f, S)\n",
    "    \n",
    "    prices_result = opt.root(prices_error, prices_guess, args=prices_args, tol=SS_tol)\n",
    "    if not prices_result.success:\n",
    "        print(\"Root finder for prices failed.\")\n",
    "        print(alpha)\n",
    "    \n",
    "    P_h, P_f, e = prices_result.x\n",
    "    \n",
    "    K_h, K_f, r, w_h, w_f = solve_r(agg_b, L_h, L_f, Z_h, Z_f, P_h, P_f, gamma_h, gamma_f, delta_h, delta_f)\n",
    "        \n",
    "    P = get_P(theta_h, P_h, P_f, 1 / e)\n",
    "    P_star = get_P(theta_f, P_f, P_h, e)\n",
    "    \n",
    "    cvec_h = get_cvec(bvec_h, nvec_h, w_h, r, P, S)\n",
    "    cvec_f = get_cvec(bvec_f, nvec_f, w_f, r, P_star, S)\n",
    "    \n",
    "    return cvec_h, cvec_f\n",
    "\n",
    "def V_error(alpha):\n",
    "    #epsilon = 1e-10\n",
    "    a = f(alpha)\n",
    "    #b = f(alpha + epsilon)\n",
    "    #dc_h_dalpha = (b[0] - a[0]) / epsilon\n",
    "    #dc_f_dalpha = (b[1] - a[1]) / epsilon\n",
    "    #du_h_dc = get_MUvec(a[0], sigma)\n",
    "    #du_f_dc = get_MUvec(a[1], sigma)\n",
    "    #du_h_dalpha = dc_h_dalpha * du_h_dc\n",
    "    #du_f_dalpha = dc_f_dalpha * du_f_dc\n",
    "    #dV_h_dalpha = np.sum(du_h_dalpha * betavec)\n",
    "    #dV_f_dalpha = np.sum(du_f_dalpha * betavec)\n",
    "    V_sum = np.sum((((a[0] ** (1 - sigma) - 1) / (1 - sigma)) + ((a[1] ** (1 - sigma) - 1) / (1 - sigma))) * betavec)\n",
    "    return -V_sum #abs(dV_h_dalpha + dV_f_dalpha)"
   ]
  },
  {
   "cell_type": "code",
   "execution_count": null,
   "metadata": {
    "collapsed": true,
    "scrolled": true
   },
   "outputs": [],
   "source": [
    "opt.minimize_scalar(V_error, bounds=(0, 1), method='bounded')"
   ]
  },
  {
   "cell_type": "code",
   "execution_count": null,
   "metadata": {
    "collapsed": true
   },
   "outputs": [],
   "source": [
    "print(P_h, P_f, e)\n",
    "print(K_h, K_f, r, w_h, w_f)\n",
    "print(P, P_star)\n",
    "print(Y_h, Y_f)"
   ]
  },
  {
   "cell_type": "code",
   "execution_count": null,
   "metadata": {
    "collapsed": true
   },
   "outputs": [],
   "source": [
    "plt.figure(figsize=(12, 9))\n",
    "plt.plot((cvec_h ** (1 - sigma) - 1) / (1 - sigma))\n",
    "plt.plot((cvec_f ** (1 - sigma) - 1) / (1 - sigma))\n",
    "plt.show()"
   ]
  },
  {
   "cell_type": "code",
   "execution_count": null,
   "metadata": {
    "collapsed": true
   },
   "outputs": [],
   "source": [
    "plt.figure(figsize=(12, 9))\n",
    "plt.plot(range(S), cvec_hh, label='hh')\n",
    "plt.plot(range(S), cvec_hf, label='hf')\n",
    "plt.plot(range(S), cvec_fh, label='fh')\n",
    "plt.plot(range(S), cvec_ff, label='ff')\n",
    "plt.legend(fontsize=15)\n",
    "plt.show()"
   ]
  },
  {
   "cell_type": "code",
   "execution_count": null,
   "metadata": {
    "collapsed": true
   },
   "outputs": [],
   "source": [
    "plt.figure(figsize=(12, 9))\n",
    "plt.plot(range(S-1), bvec_h)\n",
    "plt.plot(range(S-1), bvec_f)\n",
    "plt.show()\n",
    "\n",
    "plt.figure(figsize=(12, 9))\n",
    "plt.plot(range(S), cvec_h)\n",
    "plt.plot(range(S), cvec_f)\n",
    "plt.show()"
   ]
  },
  {
   "cell_type": "code",
   "execution_count": null,
   "metadata": {
    "collapsed": true
   },
   "outputs": [],
   "source": [
    "#Below is an unsuccessful attempt at an iterative solution.\n",
    "\n",
    "def bvec_error(bvec, *args):\n",
    "    nvec, w, r, P, beta, sigma, S = args\n",
    "    \n",
    "    cvec = get_cvec(bvec, nvec, w, r, P, S)\n",
    "    \n",
    "    MUvec = get_MUvec(cvec, sigma)\n",
    "    \n",
    "    error = MUvec[:-1] - beta * (1 + r) * MUvec[1:]\n",
    "    \n",
    "    return error"
   ]
  },
  {
   "cell_type": "code",
   "execution_count": null,
   "metadata": {
    "collapsed": true
   },
   "outputs": [],
   "source": [
    "def get_SS(hh_params, firm_params, ss_params, guess_vec):\n",
    "    beta, sigma, theta_h, theta_f, nvec_h, nvec_f, L_h, L_f = hh_params\n",
    "    Z_h, Z_f, gamma_h, gamma_f, delta_h, delta_f = firm_params\n",
    "    SS_tol, xi = ss_params\n",
    "    old_vec = guess_vec\n",
    "    iteration = 1\n",
    "    bvec_h_old = 0.001 * np.ones(S - 1)\n",
    "    bvec_f_old = 0.001 * np.ones(S - 1)\n",
    "    P_h, P_f, e, r = old_vec\n",
    "    \n",
    "    while True:\n",
    "        # Find wages using firm's problem\n",
    "        K_h = get_K(r, L_h, Z_h, P_h, gamma_h, delta_h)\n",
    "        K_f = get_K(r, L_f, Z_f, P_f, gamma_f, delta_f)\n",
    "        \n",
    "        old_agg_b = K_h + K_f\n",
    "        \n",
    "        print('old_agg_b: {}'.format(old_agg_b))\n",
    "    \n",
    "        w_h = get_w(K_h, L_h, Z_h, P_h, gamma_h)\n",
    "        w_f = get_w(K_f, L_f, Z_f, P_f, gamma_f)\n",
    "    \n",
    "        # Find implied aggregate prices \n",
    "        P = get_P(theta_h, P_h, P_f, 1 / e)\n",
    "        P_star = get_P(theta_f, P_f, P_h, e)\n",
    "    \n",
    "        # Solve for savings using Euler Equations\n",
    "        bvec_h_args = (nvec_h, w_h, r, P, beta, sigma, S)\n",
    "        bvec_h_result = opt.root(bvec_error, bvec_h_old, args=bvec_h_args, tol=SS_tol)\n",
    "        if not bvec_h_result.success:\n",
    "            print(\"Root finder for bvec_h failed on iteration {}\".format(iteration))\n",
    "            print(bvec_h_result)\n",
    "            break\n",
    "        else:\n",
    "            bvec_h = bvec_h_result.x\n",
    "            bvec_h_old = bvec_h\n",
    "    \n",
    "        bvec_f_args = (nvec_f, w_f, r, P_star, beta, sigma, S)\n",
    "        bvec_f_result = opt.root(bvec_error, bvec_f_old, args=bvec_f_args, tol=SS_tol)\n",
    "        if not bvec_f_result.success:\n",
    "            print(\"Root finder for bvec_f failed on iteration {}\".format(iteration))\n",
    "            print(bvec_f_result)\n",
    "            break\n",
    "        else:\n",
    "            bvec_f = bvec_f_result.x\n",
    "            bvec_f_old = bvec_f\n",
    "    \n",
    "        agg_b = np.sum(bvec_h + bvec_f)\n",
    "        \n",
    "        print('agg_b: {}'.format(agg_b))\n",
    "    \n",
    "        prices_guess = (P_h, P_f, e)\n",
    "        prices_args = (bvec_h, bvec_f, agg_b, nvec_h, nvec_f, L_h, L_f, Z_h, Z_f,\n",
    "                       gamma_h, gamma_f, delta_h, delta_f, theta_h, theta_f, S)\n",
    "        prices_result = opt.root(prices_error, prices_guess, args=prices_args, tol=SS_tol)\n",
    "        if not prices_result.success:\n",
    "            print(\"Root finder for prices failed.\")\n",
    "            print(prices_result)\n",
    "            break\n",
    "        else:\n",
    "            P_h, P_f, e = prices_result.x\n",
    "    \n",
    "        r = solve_r(agg_b, L_h, L_f, Z_h, Z_f, P_h, P_f, gamma_h, gamma_f, delta_h, delta_f)[2]\n",
    "    \n",
    "        # Calculate Euler Error\n",
    "    \n",
    "        vec = np.array([P_h, P_f, e, r])\n",
    "    \n",
    "        err = np.sum(np.square(old_vec - vec))\n",
    "        \n",
    "        if err < 1e-10:\n",
    "            return old_vec, bvec_h, bvec_f\n",
    "        else:\n",
    "            old_vec = xi * vec + (1 - xi) * old_vec\n",
    "            print(vec)\n",
    "            P = get_P(theta_h, P_h, P_f, 1 / e)\n",
    "            P_star = get_P(theta_f, P_f, P_h, e)\n",
    "            print(P, P_star)\n",
    "            print(\"Iteration: \", iteration, \"   Error: \", err)\n",
    "            iteration += 1"
   ]
  },
  {
   "cell_type": "code",
   "execution_count": null,
   "metadata": {
    "collapsed": true,
    "scrolled": false
   },
   "outputs": [],
   "source": [
    "# Parameters\n",
    "hh_params = (beta, sigma, theta_h, theta_f, nvec_h, nvec_f, L_h, L_f) \n",
    "firm_params = (Z_h, Z_f, gamma_h, gamma_f, delta_h, delta_f) \n",
    "ss_params = (SS_tol, xi)\n",
    "\n",
    "# Initial guess for P_h, P_f, e, r\n",
    "P_h_guess = 1.0\n",
    "P_f_guess = 1.0\n",
    "e_guess = 1.0\n",
    "r_guess = 0.05\n",
    "P_guess = get_P(theta_h, P_h_guess, P_f_guess, 1 / e_guess)\n",
    "P_star_guess = get_P(theta_f, P_f_guess, P_h_guess, e_guess)\n",
    "print(P_guess, P_star_guess)\n",
    "\n",
    "guess_vec = np.array([P_h_guess, P_f_guess, e_guess, r_guess])\n",
    "\n",
    "prices, bvec_h, bvec_f = get_SS(hh_params, firm_params, ss_params, guess_vec)\n",
    "P_h, P_f, e, r = prices"
   ]
  },
  {
   "cell_type": "code",
   "execution_count": null,
   "metadata": {
    "collapsed": true
   },
   "outputs": [],
   "source": [
    "plt.plot(range(S-1), bvec_f)\n",
    "plt.show()"
   ]
  },
  {
   "cell_type": "code",
   "execution_count": null,
   "metadata": {
    "collapsed": true
   },
   "outputs": [],
   "source": []
  },
  {
   "cell_type": "code",
   "execution_count": null,
   "metadata": {
    "collapsed": true
   },
   "outputs": [],
   "source": []
  },
  {
   "cell_type": "code",
   "execution_count": null,
   "metadata": {
    "collapsed": true
   },
   "outputs": [],
   "source": []
  },
  {
   "cell_type": "code",
   "execution_count": null,
   "metadata": {
    "collapsed": true
   },
   "outputs": [],
   "source": []
  },
  {
   "cell_type": "code",
   "execution_count": null,
   "metadata": {
    "collapsed": true
   },
   "outputs": [],
   "source": []
  }
 ],
 "metadata": {
  "kernelspec": {
   "display_name": "Python 3",
   "language": "python",
   "name": "python3"
  },
  "language_info": {
   "codemirror_mode": {
    "name": "ipython",
    "version": 3
   },
   "file_extension": ".py",
   "mimetype": "text/x-python",
   "name": "python",
   "nbconvert_exporter": "python",
   "pygments_lexer": "ipython3",
   "version": "3.6.0"
  }
 },
 "nbformat": 4,
 "nbformat_minor": 2
}
